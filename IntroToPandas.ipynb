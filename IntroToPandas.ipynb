{
 "cells": [
  {
   "cell_type": "markdown",
   "metadata": {},
   "source": [
    "'# <center>Introduction to Pandas</center>\n",
    "\n",
    "![](https://pandas.pydata.org/_static/pandas_logo.png)\n",
    "\n",
    ">pandas is an open source, BSD-licensed library providing **high-performance**, **easy-to-use data structures** and **data analysis tools** for the Python programming language.  Pandas stands for “Python Data Analysis Library”. According to the Wikipedia page on Pandas, “the name is derived from the term “panel data”, an econometrics term for multidimensional structured data sets.” \n",
    "\n",
    "## Why use Pandas?\n",
    "\n",
    "What’s cool about Pandas is that it takes data (like a CSV or TSV file, or a SQL database) and creates a Python object with rows and columns called **data frame** that looks very similar to table in a statistical software (think Excel). This is so much easier to work with in comparison to working with lists and/or dictionaries through for loops or list comprehension!\n",
    "\n",
    "So, in a way:\n",
    "\n",
    "# <center>ARRAY + TABLE = PANDAS</center>\n",
    "\n",
    "![](https://memegenerator.net/img/instances/500x/51740682/you-are-a-python-lover-if-pandas-doesnt-mean-but-httppandaspydataorg.jpg)"
   ]
  },
  {
   "cell_type": "markdown",
   "metadata": {},
   "source": [
    "## Installation\n",
    "\n",
    "Simply,\n",
    "```\n",
    "pip install pandas\n",
    "```"
   ]
  },
  {
   "cell_type": "markdown",
   "metadata": {},
   "source": [
    "## Reading data from a CSV file\n",
    "\n",
    "You can read data from a CSV file using the ``read_csv`` function. By default, it assumes that the fields are comma-separated."
   ]
  },
  {
   "cell_type": "code",
   "execution_count": 1,
   "metadata": {},
   "outputs": [],
   "source": [
    "import pandas as pd"
   ]
  },
  {
   "cell_type": "code",
   "execution_count": 2,
   "metadata": {},
   "outputs": [],
   "source": [
    "imdb_df = pd.read_csv(\"data/imdb_1000.csv\")"
   ]
  },
  {
   "cell_type": "code",
   "execution_count": 3,
   "metadata": {},
   "outputs": [
    {
     "data": {
      "text/html": [
       "<div>\n",
       "<style scoped>\n",
       "    .dataframe tbody tr th:only-of-type {\n",
       "        vertical-align: middle;\n",
       "    }\n",
       "\n",
       "    .dataframe tbody tr th {\n",
       "        vertical-align: top;\n",
       "    }\n",
       "\n",
       "    .dataframe thead th {\n",
       "        text-align: right;\n",
       "    }\n",
       "</style>\n",
       "<table border=\"1\" class=\"dataframe\">\n",
       "  <thead>\n",
       "    <tr style=\"text-align: right;\">\n",
       "      <th></th>\n",
       "      <th>star_rating</th>\n",
       "      <th>title</th>\n",
       "      <th>content_rating</th>\n",
       "      <th>genre</th>\n",
       "      <th>duration</th>\n",
       "      <th>actors_list</th>\n",
       "    </tr>\n",
       "  </thead>\n",
       "  <tbody>\n",
       "    <tr>\n",
       "      <th>0</th>\n",
       "      <td>9.3</td>\n",
       "      <td>The Shawshank Redemption</td>\n",
       "      <td>R</td>\n",
       "      <td>Crime</td>\n",
       "      <td>142</td>\n",
       "      <td>[u'Tim Robbins', u'Morgan Freeman', u'Bob Gunt...</td>\n",
       "    </tr>\n",
       "    <tr>\n",
       "      <th>1</th>\n",
       "      <td>9.2</td>\n",
       "      <td>The Godfather</td>\n",
       "      <td>R</td>\n",
       "      <td>Crime</td>\n",
       "      <td>175</td>\n",
       "      <td>[u'Marlon Brando', u'Al Pacino', u'James Caan']</td>\n",
       "    </tr>\n",
       "    <tr>\n",
       "      <th>2</th>\n",
       "      <td>9.1</td>\n",
       "      <td>The Godfather: Part II</td>\n",
       "      <td>R</td>\n",
       "      <td>Crime</td>\n",
       "      <td>200</td>\n",
       "      <td>[u'Al Pacino', u'Robert De Niro', u'Robert Duv...</td>\n",
       "    </tr>\n",
       "    <tr>\n",
       "      <th>3</th>\n",
       "      <td>9.0</td>\n",
       "      <td>The Dark Knight</td>\n",
       "      <td>PG-13</td>\n",
       "      <td>Action</td>\n",
       "      <td>152</td>\n",
       "      <td>[u'Christian Bale', u'Heath Ledger', u'Aaron E...</td>\n",
       "    </tr>\n",
       "    <tr>\n",
       "      <th>4</th>\n",
       "      <td>8.9</td>\n",
       "      <td>Pulp Fiction</td>\n",
       "      <td>R</td>\n",
       "      <td>Crime</td>\n",
       "      <td>154</td>\n",
       "      <td>[u'John Travolta', u'Uma Thurman', u'Samuel L....</td>\n",
       "    </tr>\n",
       "  </tbody>\n",
       "</table>\n",
       "</div>"
      ],
      "text/plain": [
       "   star_rating                     title content_rating   genre  duration  \\\n",
       "0          9.3  The Shawshank Redemption              R   Crime       142   \n",
       "1          9.2             The Godfather              R   Crime       175   \n",
       "2          9.1    The Godfather: Part II              R   Crime       200   \n",
       "3          9.0           The Dark Knight          PG-13  Action       152   \n",
       "4          8.9              Pulp Fiction              R   Crime       154   \n",
       "\n",
       "                                         actors_list  \n",
       "0  [u'Tim Robbins', u'Morgan Freeman', u'Bob Gunt...  \n",
       "1    [u'Marlon Brando', u'Al Pacino', u'James Caan']  \n",
       "2  [u'Al Pacino', u'Robert De Niro', u'Robert Duv...  \n",
       "3  [u'Christian Bale', u'Heath Ledger', u'Aaron E...  \n",
       "4  [u'John Travolta', u'Uma Thurman', u'Samuel L....  "
      ]
     },
     "execution_count": 3,
     "metadata": {},
     "output_type": "execute_result"
    }
   ],
   "source": [
    "imdb_df.head()"
   ]
  },
  {
   "cell_type": "code",
   "execution_count": 4,
   "metadata": {},
   "outputs": [],
   "source": [
    "bikes_df = pd.read_csv(\"data/bikes.csv\")"
   ]
  },
  {
   "cell_type": "code",
   "execution_count": 5,
   "metadata": {
    "scrolled": true
   },
   "outputs": [
    {
     "data": {
      "text/html": [
       "<div>\n",
       "<style scoped>\n",
       "    .dataframe tbody tr th:only-of-type {\n",
       "        vertical-align: middle;\n",
       "    }\n",
       "\n",
       "    .dataframe tbody tr th {\n",
       "        vertical-align: top;\n",
       "    }\n",
       "\n",
       "    .dataframe thead th {\n",
       "        text-align: right;\n",
       "    }\n",
       "</style>\n",
       "<table border=\"1\" class=\"dataframe\">\n",
       "  <thead>\n",
       "    <tr style=\"text-align: right;\">\n",
       "      <th></th>\n",
       "      <th>Date;;Rachel / Papineau;Berri1;Maisonneuve_2;Maisonneuve_1;Brébeuf;Parc;PierDup;CSC (Côte Sainte-Catherine);Pont_Jacques_Cartier</th>\n",
       "    </tr>\n",
       "  </thead>\n",
       "  <tbody>\n",
       "    <tr>\n",
       "      <th>0</th>\n",
       "      <td>01/01/2012;00:00;16;35;51;38;5;26;10;0;27</td>\n",
       "    </tr>\n",
       "    <tr>\n",
       "      <th>1</th>\n",
       "      <td>02/01/2012;00:00;43;83;153;68;11;53;6;1;21</td>\n",
       "    </tr>\n",
       "    <tr>\n",
       "      <th>2</th>\n",
       "      <td>03/01/2012;00:00;58;135;248;104;2;89;3;2;15</td>\n",
       "    </tr>\n",
       "    <tr>\n",
       "      <th>3</th>\n",
       "      <td>04/01/2012;00:00;61;144;318;116;2;111;8;1;19</td>\n",
       "    </tr>\n",
       "    <tr>\n",
       "      <th>4</th>\n",
       "      <td>05/01/2012;00:00;95;197;330;124;6;97;13;2;16</td>\n",
       "    </tr>\n",
       "  </tbody>\n",
       "</table>\n",
       "</div>"
      ],
      "text/plain": [
       "  Date;;Rachel / Papineau;Berri1;Maisonneuve_2;Maisonneuve_1;Brébeuf;Parc;PierDup;CSC (Côte Sainte-Catherine);Pont_Jacques_Cartier\n",
       "0          01/01/2012;00:00;16;35;51;38;5;26;10;0;27                                                                              \n",
       "1         02/01/2012;00:00;43;83;153;68;11;53;6;1;21                                                                              \n",
       "2        03/01/2012;00:00;58;135;248;104;2;89;3;2;15                                                                              \n",
       "3       04/01/2012;00:00;61;144;318;116;2;111;8;1;19                                                                              \n",
       "4       05/01/2012;00:00;95;197;330;124;6;97;13;2;16                                                                              "
      ]
     },
     "execution_count": 5,
     "metadata": {},
     "output_type": "execute_result"
    }
   ],
   "source": [
    "bikes_df.head()"
   ]
  },
  {
   "cell_type": "code",
   "execution_count": 6,
   "metadata": {},
   "outputs": [],
   "source": [
    "bikes_df = pd.read_csv(\"data/bikes.csv\", sep=';', parse_dates=['Date'], dayfirst=True, index_col='Date')"
   ]
  },
  {
   "cell_type": "code",
   "execution_count": 7,
   "metadata": {
    "scrolled": true
   },
   "outputs": [
    {
     "data": {
      "text/html": [
       "<div>\n",
       "<style scoped>\n",
       "    .dataframe tbody tr th:only-of-type {\n",
       "        vertical-align: middle;\n",
       "    }\n",
       "\n",
       "    .dataframe tbody tr th {\n",
       "        vertical-align: top;\n",
       "    }\n",
       "\n",
       "    .dataframe thead th {\n",
       "        text-align: right;\n",
       "    }\n",
       "</style>\n",
       "<table border=\"1\" class=\"dataframe\">\n",
       "  <thead>\n",
       "    <tr style=\"text-align: right;\">\n",
       "      <th></th>\n",
       "      <th>Unnamed: 1</th>\n",
       "      <th>Rachel / Papineau</th>\n",
       "      <th>Berri1</th>\n",
       "      <th>Maisonneuve_2</th>\n",
       "      <th>Maisonneuve_1</th>\n",
       "      <th>Brébeuf</th>\n",
       "      <th>Parc</th>\n",
       "      <th>PierDup</th>\n",
       "      <th>CSC (Côte Sainte-Catherine)</th>\n",
       "      <th>Pont_Jacques_Cartier</th>\n",
       "    </tr>\n",
       "    <tr>\n",
       "      <th>Date</th>\n",
       "      <th></th>\n",
       "      <th></th>\n",
       "      <th></th>\n",
       "      <th></th>\n",
       "      <th></th>\n",
       "      <th></th>\n",
       "      <th></th>\n",
       "      <th></th>\n",
       "      <th></th>\n",
       "      <th></th>\n",
       "    </tr>\n",
       "  </thead>\n",
       "  <tbody>\n",
       "    <tr>\n",
       "      <th>2012-01-01</th>\n",
       "      <td>00:00</td>\n",
       "      <td>16</td>\n",
       "      <td>35</td>\n",
       "      <td>51</td>\n",
       "      <td>38</td>\n",
       "      <td>5.0</td>\n",
       "      <td>26</td>\n",
       "      <td>10</td>\n",
       "      <td>0</td>\n",
       "      <td>27.0</td>\n",
       "    </tr>\n",
       "    <tr>\n",
       "      <th>2012-01-02</th>\n",
       "      <td>00:00</td>\n",
       "      <td>43</td>\n",
       "      <td>83</td>\n",
       "      <td>153</td>\n",
       "      <td>68</td>\n",
       "      <td>11.0</td>\n",
       "      <td>53</td>\n",
       "      <td>6</td>\n",
       "      <td>1</td>\n",
       "      <td>21.0</td>\n",
       "    </tr>\n",
       "    <tr>\n",
       "      <th>2012-01-03</th>\n",
       "      <td>00:00</td>\n",
       "      <td>58</td>\n",
       "      <td>135</td>\n",
       "      <td>248</td>\n",
       "      <td>104</td>\n",
       "      <td>2.0</td>\n",
       "      <td>89</td>\n",
       "      <td>3</td>\n",
       "      <td>2</td>\n",
       "      <td>15.0</td>\n",
       "    </tr>\n",
       "    <tr>\n",
       "      <th>2012-01-04</th>\n",
       "      <td>00:00</td>\n",
       "      <td>61</td>\n",
       "      <td>144</td>\n",
       "      <td>318</td>\n",
       "      <td>116</td>\n",
       "      <td>2.0</td>\n",
       "      <td>111</td>\n",
       "      <td>8</td>\n",
       "      <td>1</td>\n",
       "      <td>19.0</td>\n",
       "    </tr>\n",
       "    <tr>\n",
       "      <th>2012-01-05</th>\n",
       "      <td>00:00</td>\n",
       "      <td>95</td>\n",
       "      <td>197</td>\n",
       "      <td>330</td>\n",
       "      <td>124</td>\n",
       "      <td>6.0</td>\n",
       "      <td>97</td>\n",
       "      <td>13</td>\n",
       "      <td>2</td>\n",
       "      <td>16.0</td>\n",
       "    </tr>\n",
       "  </tbody>\n",
       "</table>\n",
       "</div>"
      ],
      "text/plain": [
       "           Unnamed: 1  Rachel / Papineau  Berri1  Maisonneuve_2  \\\n",
       "Date                                                              \n",
       "2012-01-01      00:00                 16      35             51   \n",
       "2012-01-02      00:00                 43      83            153   \n",
       "2012-01-03      00:00                 58     135            248   \n",
       "2012-01-04      00:00                 61     144            318   \n",
       "2012-01-05      00:00                 95     197            330   \n",
       "\n",
       "            Maisonneuve_1  Brébeuf  Parc  PierDup  \\\n",
       "Date                                                \n",
       "2012-01-01             38      5.0    26       10   \n",
       "2012-01-02             68     11.0    53        6   \n",
       "2012-01-03            104      2.0    89        3   \n",
       "2012-01-04            116      2.0   111        8   \n",
       "2012-01-05            124      6.0    97       13   \n",
       "\n",
       "            CSC (Côte Sainte-Catherine)  Pont_Jacques_Cartier  \n",
       "Date                                                           \n",
       "2012-01-01                            0                  27.0  \n",
       "2012-01-02                            1                  21.0  \n",
       "2012-01-03                            2                  15.0  \n",
       "2012-01-04                            1                  19.0  \n",
       "2012-01-05                            2                  16.0  "
      ]
     },
     "execution_count": 7,
     "metadata": {},
     "output_type": "execute_result"
    }
   ],
   "source": [
    "bikes_df.head()"
   ]
  },
  {
   "cell_type": "code",
   "execution_count": 8,
   "metadata": {
    "scrolled": true
   },
   "outputs": [
    {
     "data": {
      "text/plain": [
       "Index(['Unnamed: 1', 'Rachel / Papineau', 'Berri1', 'Maisonneuve_2',\n",
       "       'Maisonneuve_1', 'Brébeuf', 'Parc', 'PierDup',\n",
       "       'CSC (Côte Sainte-Catherine)', 'Pont_Jacques_Cartier'],\n",
       "      dtype='object')"
      ]
     },
     "execution_count": 8,
     "metadata": {},
     "output_type": "execute_result"
    }
   ],
   "source": [
    "bikes_df.columns"
   ]
  },
  {
   "cell_type": "code",
   "execution_count": 9,
   "metadata": {
    "scrolled": true
   },
   "outputs": [
    {
     "data": {
      "text/plain": [
       "Unnamed: 1                      object\n",
       "Rachel / Papineau                int64\n",
       "Berri1                           int64\n",
       "Maisonneuve_2                    int64\n",
       "Maisonneuve_1                    int64\n",
       "Brébeuf                        float64\n",
       "Parc                             int64\n",
       "PierDup                          int64\n",
       "CSC (Côte Sainte-Catherine)      int64\n",
       "Pont_Jacques_Cartier           float64\n",
       "dtype: object"
      ]
     },
     "execution_count": 9,
     "metadata": {},
     "output_type": "execute_result"
    }
   ],
   "source": [
    "bikes_df.dtypes"
   ]
  },
  {
   "cell_type": "markdown",
   "metadata": {},
   "source": [
    "## Creating dataframe\n",
    "\n",
    "A list of lists/tuples can be used to create a DataFrame."
   ]
  },
  {
   "cell_type": "code",
   "execution_count": 10,
   "metadata": {},
   "outputs": [],
   "source": [
    "# The inital set of baby names and bith rates\n",
    "names = ['Bob','Jessica','Mary','John','Mel']\n",
    "births = [968, 155, 77, 578, 973]"
   ]
  },
  {
   "cell_type": "code",
   "execution_count": 11,
   "metadata": {},
   "outputs": [],
   "source": [
    "BabyDataSet = list(zip(names,births))"
   ]
  },
  {
   "cell_type": "code",
   "execution_count": 12,
   "metadata": {},
   "outputs": [],
   "source": [
    "df = pd.DataFrame(data = BabyDataSet, columns=['Names', 'Births'])"
   ]
  },
  {
   "cell_type": "code",
   "execution_count": 13,
   "metadata": {},
   "outputs": [
    {
     "data": {
      "text/html": [
       "<div>\n",
       "<style scoped>\n",
       "    .dataframe tbody tr th:only-of-type {\n",
       "        vertical-align: middle;\n",
       "    }\n",
       "\n",
       "    .dataframe tbody tr th {\n",
       "        vertical-align: top;\n",
       "    }\n",
       "\n",
       "    .dataframe thead th {\n",
       "        text-align: right;\n",
       "    }\n",
       "</style>\n",
       "<table border=\"1\" class=\"dataframe\">\n",
       "  <thead>\n",
       "    <tr style=\"text-align: right;\">\n",
       "      <th></th>\n",
       "      <th>Names</th>\n",
       "      <th>Births</th>\n",
       "    </tr>\n",
       "  </thead>\n",
       "  <tbody>\n",
       "    <tr>\n",
       "      <th>0</th>\n",
       "      <td>Bob</td>\n",
       "      <td>968</td>\n",
       "    </tr>\n",
       "    <tr>\n",
       "      <th>1</th>\n",
       "      <td>Jessica</td>\n",
       "      <td>155</td>\n",
       "    </tr>\n",
       "    <tr>\n",
       "      <th>2</th>\n",
       "      <td>Mary</td>\n",
       "      <td>77</td>\n",
       "    </tr>\n",
       "    <tr>\n",
       "      <th>3</th>\n",
       "      <td>John</td>\n",
       "      <td>578</td>\n",
       "    </tr>\n",
       "    <tr>\n",
       "      <th>4</th>\n",
       "      <td>Mel</td>\n",
       "      <td>973</td>\n",
       "    </tr>\n",
       "  </tbody>\n",
       "</table>\n",
       "</div>"
      ],
      "text/plain": [
       "     Names  Births\n",
       "0      Bob     968\n",
       "1  Jessica     155\n",
       "2     Mary      77\n",
       "3     John     578\n",
       "4      Mel     973"
      ]
     },
     "execution_count": 13,
     "metadata": {},
     "output_type": "execute_result"
    }
   ],
   "source": [
    "df.head()"
   ]
  },
  {
   "cell_type": "code",
   "execution_count": 14,
   "metadata": {},
   "outputs": [],
   "source": [
    "# saving dataframe as csv file\n",
    "df.to_csv('data/births.csv')"
   ]
  },
  {
   "cell_type": "markdown",
   "metadata": {},
   "source": [
    "## Selecting columns\n",
    "\n",
    "When you read a CSV, you get a kind of object called a DataFrame, which is made up of rows and columns. You get columns out of a DataFrame the same way you get elements out of a dictionary."
   ]
  },
  {
   "cell_type": "code",
   "execution_count": 15,
   "metadata": {},
   "outputs": [
    {
     "data": {
      "text/plain": [
       "Index(['star_rating', 'title', 'content_rating', 'genre', 'duration',\n",
       "       'actors_list'],\n",
       "      dtype='object')"
      ]
     },
     "execution_count": 15,
     "metadata": {},
     "output_type": "execute_result"
    }
   ],
   "source": [
    "imdb_df.columns"
   ]
  },
  {
   "cell_type": "code",
   "execution_count": 16,
   "metadata": {},
   "outputs": [
    {
     "data": {
      "text/plain": [
       "0                               The Shawshank Redemption\n",
       "1                                          The Godfather\n",
       "2                                 The Godfather: Part II\n",
       "3                                        The Dark Knight\n",
       "4                                           Pulp Fiction\n",
       "5                                           12 Angry Men\n",
       "6                         The Good, the Bad and the Ugly\n",
       "7          The Lord of the Rings: The Return of the King\n",
       "8                                       Schindler's List\n",
       "9                                             Fight Club\n",
       "10     The Lord of the Rings: The Fellowship of the Ring\n",
       "11                                             Inception\n",
       "12        Star Wars: Episode V - The Empire Strikes Back\n",
       "13                                          Forrest Gump\n",
       "14                 The Lord of the Rings: The Two Towers\n",
       "15                                          Interstellar\n",
       "16                       One Flew Over the Cuckoo's Nest\n",
       "17                                         Seven Samurai\n",
       "18                                            Goodfellas\n",
       "19                                             Star Wars\n",
       "20                                            The Matrix\n",
       "21                                           City of God\n",
       "22                                 It's a Wonderful Life\n",
       "23                                    The Usual Suspects\n",
       "24                                                 Se7en\n",
       "25                                     Life Is Beautiful\n",
       "26                          Once Upon a Time in the West\n",
       "27                              The Silence of the Lambs\n",
       "28                                Leon: The Professional\n",
       "29                                           City Lights\n",
       "                             ...                        \n",
       "949                                           Home Alone\n",
       "950                                                Bound\n",
       "951                                        Sleepy Hollow\n",
       "952                                         Pirate Radio\n",
       "953                                The NeverEnding Story\n",
       "954                                                X-Men\n",
       "955                                     Zero Dark Thirty\n",
       "956                             Manhattan Murder Mystery\n",
       "957                          National Lampoon's Vacation\n",
       "958                                   My Sister's Keeper\n",
       "959                                 Deconstructing Harry\n",
       "960                                     The Way Way Back\n",
       "961                                               Capote\n",
       "962                                   Driving Miss Daisy\n",
       "963                                      La Femme Nikita\n",
       "964                                              Lincoln\n",
       "965                                            Limitless\n",
       "966                                   The Simpsons Movie\n",
       "967                                             The Rock\n",
       "968                                  The English Patient\n",
       "969                                  Law Abiding Citizen\n",
       "970                                          Wonder Boys\n",
       "971                                   Death at a Funeral\n",
       "972                                       Blue Valentine\n",
       "973                                The Cider House Rules\n",
       "974                                              Tootsie\n",
       "975                          Back to the Future Part III\n",
       "976      Master and Commander: The Far Side of the World\n",
       "977                                          Poltergeist\n",
       "978                                          Wall Street\n",
       "Name: title, Length: 979, dtype: object"
      ]
     },
     "execution_count": 16,
     "metadata": {},
     "output_type": "execute_result"
    }
   ],
   "source": [
    "imdb_df['title']"
   ]
  },
  {
   "cell_type": "code",
   "execution_count": 17,
   "metadata": {},
   "outputs": [
    {
     "data": {
      "text/plain": [
       "pandas.core.series.Series"
      ]
     },
     "execution_count": 17,
     "metadata": {},
     "output_type": "execute_result"
    }
   ],
   "source": [
    "type(imdb_df['title'])"
   ]
  },
  {
   "cell_type": "code",
   "execution_count": 18,
   "metadata": {},
   "outputs": [
    {
     "data": {
      "text/plain": [
       "Date\n",
       "2012-01-01      35\n",
       "2012-01-02      83\n",
       "2012-01-03     135\n",
       "2012-01-04     144\n",
       "2012-01-05     197\n",
       "2012-01-06     146\n",
       "2012-01-07      98\n",
       "2012-01-08      95\n",
       "2012-01-09     244\n",
       "2012-01-10     397\n",
       "2012-01-11     273\n",
       "2012-01-12     157\n",
       "2012-01-13      75\n",
       "2012-01-14      32\n",
       "2012-01-15      54\n",
       "2012-01-16     168\n",
       "2012-01-17     155\n",
       "2012-01-18     139\n",
       "2012-01-19     191\n",
       "2012-01-20     161\n",
       "2012-01-21      53\n",
       "2012-01-22      71\n",
       "2012-01-23     210\n",
       "2012-01-24     299\n",
       "2012-01-25     334\n",
       "2012-01-26     306\n",
       "2012-01-27      91\n",
       "2012-01-28      80\n",
       "2012-01-29      87\n",
       "2012-01-30     219\n",
       "              ... \n",
       "2012-12-02     324\n",
       "2012-12-03    1286\n",
       "2012-12-04    1264\n",
       "2012-12-05    1204\n",
       "2012-12-06    1252\n",
       "2012-12-07    1151\n",
       "2012-12-08     382\n",
       "2012-12-09     427\n",
       "2012-12-10     245\n",
       "2012-12-11     517\n",
       "2012-12-12     598\n",
       "2012-12-13     655\n",
       "2012-12-14     738\n",
       "2012-12-15     335\n",
       "2012-12-16     177\n",
       "2012-12-17     236\n",
       "2012-12-18     242\n",
       "2012-12-19     346\n",
       "2012-12-20     433\n",
       "2012-12-21     178\n",
       "2012-12-22      84\n",
       "2012-12-23      82\n",
       "2012-12-24      51\n",
       "2012-12-25      26\n",
       "2012-12-26      49\n",
       "2012-12-27      12\n",
       "2012-12-28      35\n",
       "2012-12-29      27\n",
       "2012-12-30       5\n",
       "2012-12-31       4\n",
       "Name: Berri1, Length: 366, dtype: int64"
      ]
     },
     "execution_count": 18,
     "metadata": {},
     "output_type": "execute_result"
    }
   ],
   "source": [
    "bikes_df['Berri1']"
   ]
  },
  {
   "cell_type": "code",
   "execution_count": 19,
   "metadata": {
    "scrolled": true
   },
   "outputs": [
    {
     "data": {
      "text/html": [
       "<div>\n",
       "<style scoped>\n",
       "    .dataframe tbody tr th:only-of-type {\n",
       "        vertical-align: middle;\n",
       "    }\n",
       "\n",
       "    .dataframe tbody tr th {\n",
       "        vertical-align: top;\n",
       "    }\n",
       "\n",
       "    .dataframe thead th {\n",
       "        text-align: right;\n",
       "    }\n",
       "</style>\n",
       "<table border=\"1\" class=\"dataframe\">\n",
       "  <thead>\n",
       "    <tr style=\"text-align: right;\">\n",
       "      <th></th>\n",
       "      <th>star_rating</th>\n",
       "      <th>genre</th>\n",
       "    </tr>\n",
       "  </thead>\n",
       "  <tbody>\n",
       "    <tr>\n",
       "      <th>0</th>\n",
       "      <td>9.3</td>\n",
       "      <td>Crime</td>\n",
       "    </tr>\n",
       "    <tr>\n",
       "      <th>1</th>\n",
       "      <td>9.2</td>\n",
       "      <td>Crime</td>\n",
       "    </tr>\n",
       "    <tr>\n",
       "      <th>2</th>\n",
       "      <td>9.1</td>\n",
       "      <td>Crime</td>\n",
       "    </tr>\n",
       "    <tr>\n",
       "      <th>3</th>\n",
       "      <td>9.0</td>\n",
       "      <td>Action</td>\n",
       "    </tr>\n",
       "    <tr>\n",
       "      <th>4</th>\n",
       "      <td>8.9</td>\n",
       "      <td>Crime</td>\n",
       "    </tr>\n",
       "    <tr>\n",
       "      <th>5</th>\n",
       "      <td>8.9</td>\n",
       "      <td>Drama</td>\n",
       "    </tr>\n",
       "    <tr>\n",
       "      <th>6</th>\n",
       "      <td>8.9</td>\n",
       "      <td>Western</td>\n",
       "    </tr>\n",
       "    <tr>\n",
       "      <th>7</th>\n",
       "      <td>8.9</td>\n",
       "      <td>Adventure</td>\n",
       "    </tr>\n",
       "    <tr>\n",
       "      <th>8</th>\n",
       "      <td>8.9</td>\n",
       "      <td>Biography</td>\n",
       "    </tr>\n",
       "    <tr>\n",
       "      <th>9</th>\n",
       "      <td>8.9</td>\n",
       "      <td>Drama</td>\n",
       "    </tr>\n",
       "    <tr>\n",
       "      <th>10</th>\n",
       "      <td>8.8</td>\n",
       "      <td>Adventure</td>\n",
       "    </tr>\n",
       "    <tr>\n",
       "      <th>11</th>\n",
       "      <td>8.8</td>\n",
       "      <td>Action</td>\n",
       "    </tr>\n",
       "    <tr>\n",
       "      <th>12</th>\n",
       "      <td>8.8</td>\n",
       "      <td>Action</td>\n",
       "    </tr>\n",
       "    <tr>\n",
       "      <th>13</th>\n",
       "      <td>8.8</td>\n",
       "      <td>Drama</td>\n",
       "    </tr>\n",
       "    <tr>\n",
       "      <th>14</th>\n",
       "      <td>8.8</td>\n",
       "      <td>Adventure</td>\n",
       "    </tr>\n",
       "    <tr>\n",
       "      <th>15</th>\n",
       "      <td>8.7</td>\n",
       "      <td>Adventure</td>\n",
       "    </tr>\n",
       "    <tr>\n",
       "      <th>16</th>\n",
       "      <td>8.7</td>\n",
       "      <td>Drama</td>\n",
       "    </tr>\n",
       "    <tr>\n",
       "      <th>17</th>\n",
       "      <td>8.7</td>\n",
       "      <td>Drama</td>\n",
       "    </tr>\n",
       "    <tr>\n",
       "      <th>18</th>\n",
       "      <td>8.7</td>\n",
       "      <td>Biography</td>\n",
       "    </tr>\n",
       "    <tr>\n",
       "      <th>19</th>\n",
       "      <td>8.7</td>\n",
       "      <td>Action</td>\n",
       "    </tr>\n",
       "    <tr>\n",
       "      <th>20</th>\n",
       "      <td>8.7</td>\n",
       "      <td>Action</td>\n",
       "    </tr>\n",
       "    <tr>\n",
       "      <th>21</th>\n",
       "      <td>8.7</td>\n",
       "      <td>Crime</td>\n",
       "    </tr>\n",
       "    <tr>\n",
       "      <th>22</th>\n",
       "      <td>8.7</td>\n",
       "      <td>Drama</td>\n",
       "    </tr>\n",
       "    <tr>\n",
       "      <th>23</th>\n",
       "      <td>8.7</td>\n",
       "      <td>Crime</td>\n",
       "    </tr>\n",
       "    <tr>\n",
       "      <th>24</th>\n",
       "      <td>8.7</td>\n",
       "      <td>Drama</td>\n",
       "    </tr>\n",
       "    <tr>\n",
       "      <th>25</th>\n",
       "      <td>8.6</td>\n",
       "      <td>Comedy</td>\n",
       "    </tr>\n",
       "    <tr>\n",
       "      <th>26</th>\n",
       "      <td>8.6</td>\n",
       "      <td>Western</td>\n",
       "    </tr>\n",
       "    <tr>\n",
       "      <th>27</th>\n",
       "      <td>8.6</td>\n",
       "      <td>Drama</td>\n",
       "    </tr>\n",
       "    <tr>\n",
       "      <th>28</th>\n",
       "      <td>8.6</td>\n",
       "      <td>Crime</td>\n",
       "    </tr>\n",
       "    <tr>\n",
       "      <th>29</th>\n",
       "      <td>8.6</td>\n",
       "      <td>Comedy</td>\n",
       "    </tr>\n",
       "    <tr>\n",
       "      <th>...</th>\n",
       "      <td>...</td>\n",
       "      <td>...</td>\n",
       "    </tr>\n",
       "    <tr>\n",
       "      <th>949</th>\n",
       "      <td>7.4</td>\n",
       "      <td>Comedy</td>\n",
       "    </tr>\n",
       "    <tr>\n",
       "      <th>950</th>\n",
       "      <td>7.4</td>\n",
       "      <td>Crime</td>\n",
       "    </tr>\n",
       "    <tr>\n",
       "      <th>951</th>\n",
       "      <td>7.4</td>\n",
       "      <td>Drama</td>\n",
       "    </tr>\n",
       "    <tr>\n",
       "      <th>952</th>\n",
       "      <td>7.4</td>\n",
       "      <td>Comedy</td>\n",
       "    </tr>\n",
       "    <tr>\n",
       "      <th>953</th>\n",
       "      <td>7.4</td>\n",
       "      <td>Adventure</td>\n",
       "    </tr>\n",
       "    <tr>\n",
       "      <th>954</th>\n",
       "      <td>7.4</td>\n",
       "      <td>Action</td>\n",
       "    </tr>\n",
       "    <tr>\n",
       "      <th>955</th>\n",
       "      <td>7.4</td>\n",
       "      <td>Drama</td>\n",
       "    </tr>\n",
       "    <tr>\n",
       "      <th>956</th>\n",
       "      <td>7.4</td>\n",
       "      <td>Comedy</td>\n",
       "    </tr>\n",
       "    <tr>\n",
       "      <th>957</th>\n",
       "      <td>7.4</td>\n",
       "      <td>Comedy</td>\n",
       "    </tr>\n",
       "    <tr>\n",
       "      <th>958</th>\n",
       "      <td>7.4</td>\n",
       "      <td>Drama</td>\n",
       "    </tr>\n",
       "    <tr>\n",
       "      <th>959</th>\n",
       "      <td>7.4</td>\n",
       "      <td>Comedy</td>\n",
       "    </tr>\n",
       "    <tr>\n",
       "      <th>960</th>\n",
       "      <td>7.4</td>\n",
       "      <td>Comedy</td>\n",
       "    </tr>\n",
       "    <tr>\n",
       "      <th>961</th>\n",
       "      <td>7.4</td>\n",
       "      <td>Biography</td>\n",
       "    </tr>\n",
       "    <tr>\n",
       "      <th>962</th>\n",
       "      <td>7.4</td>\n",
       "      <td>Comedy</td>\n",
       "    </tr>\n",
       "    <tr>\n",
       "      <th>963</th>\n",
       "      <td>7.4</td>\n",
       "      <td>Action</td>\n",
       "    </tr>\n",
       "    <tr>\n",
       "      <th>964</th>\n",
       "      <td>7.4</td>\n",
       "      <td>Biography</td>\n",
       "    </tr>\n",
       "    <tr>\n",
       "      <th>965</th>\n",
       "      <td>7.4</td>\n",
       "      <td>Mystery</td>\n",
       "    </tr>\n",
       "    <tr>\n",
       "      <th>966</th>\n",
       "      <td>7.4</td>\n",
       "      <td>Animation</td>\n",
       "    </tr>\n",
       "    <tr>\n",
       "      <th>967</th>\n",
       "      <td>7.4</td>\n",
       "      <td>Action</td>\n",
       "    </tr>\n",
       "    <tr>\n",
       "      <th>968</th>\n",
       "      <td>7.4</td>\n",
       "      <td>Drama</td>\n",
       "    </tr>\n",
       "    <tr>\n",
       "      <th>969</th>\n",
       "      <td>7.4</td>\n",
       "      <td>Crime</td>\n",
       "    </tr>\n",
       "    <tr>\n",
       "      <th>970</th>\n",
       "      <td>7.4</td>\n",
       "      <td>Drama</td>\n",
       "    </tr>\n",
       "    <tr>\n",
       "      <th>971</th>\n",
       "      <td>7.4</td>\n",
       "      <td>Comedy</td>\n",
       "    </tr>\n",
       "    <tr>\n",
       "      <th>972</th>\n",
       "      <td>7.4</td>\n",
       "      <td>Drama</td>\n",
       "    </tr>\n",
       "    <tr>\n",
       "      <th>973</th>\n",
       "      <td>7.4</td>\n",
       "      <td>Drama</td>\n",
       "    </tr>\n",
       "    <tr>\n",
       "      <th>974</th>\n",
       "      <td>7.4</td>\n",
       "      <td>Comedy</td>\n",
       "    </tr>\n",
       "    <tr>\n",
       "      <th>975</th>\n",
       "      <td>7.4</td>\n",
       "      <td>Adventure</td>\n",
       "    </tr>\n",
       "    <tr>\n",
       "      <th>976</th>\n",
       "      <td>7.4</td>\n",
       "      <td>Action</td>\n",
       "    </tr>\n",
       "    <tr>\n",
       "      <th>977</th>\n",
       "      <td>7.4</td>\n",
       "      <td>Horror</td>\n",
       "    </tr>\n",
       "    <tr>\n",
       "      <th>978</th>\n",
       "      <td>7.4</td>\n",
       "      <td>Crime</td>\n",
       "    </tr>\n",
       "  </tbody>\n",
       "</table>\n",
       "<p>979 rows × 2 columns</p>\n",
       "</div>"
      ],
      "text/plain": [
       "     star_rating      genre\n",
       "0            9.3      Crime\n",
       "1            9.2      Crime\n",
       "2            9.1      Crime\n",
       "3            9.0     Action\n",
       "4            8.9      Crime\n",
       "5            8.9      Drama\n",
       "6            8.9    Western\n",
       "7            8.9  Adventure\n",
       "8            8.9  Biography\n",
       "9            8.9      Drama\n",
       "10           8.8  Adventure\n",
       "11           8.8     Action\n",
       "12           8.8     Action\n",
       "13           8.8      Drama\n",
       "14           8.8  Adventure\n",
       "15           8.7  Adventure\n",
       "16           8.7      Drama\n",
       "17           8.7      Drama\n",
       "18           8.7  Biography\n",
       "19           8.7     Action\n",
       "20           8.7     Action\n",
       "21           8.7      Crime\n",
       "22           8.7      Drama\n",
       "23           8.7      Crime\n",
       "24           8.7      Drama\n",
       "25           8.6     Comedy\n",
       "26           8.6    Western\n",
       "27           8.6      Drama\n",
       "28           8.6      Crime\n",
       "29           8.6     Comedy\n",
       "..           ...        ...\n",
       "949          7.4     Comedy\n",
       "950          7.4      Crime\n",
       "951          7.4      Drama\n",
       "952          7.4     Comedy\n",
       "953          7.4  Adventure\n",
       "954          7.4     Action\n",
       "955          7.4      Drama\n",
       "956          7.4     Comedy\n",
       "957          7.4     Comedy\n",
       "958          7.4      Drama\n",
       "959          7.4     Comedy\n",
       "960          7.4     Comedy\n",
       "961          7.4  Biography\n",
       "962          7.4     Comedy\n",
       "963          7.4     Action\n",
       "964          7.4  Biography\n",
       "965          7.4    Mystery\n",
       "966          7.4  Animation\n",
       "967          7.4     Action\n",
       "968          7.4      Drama\n",
       "969          7.4      Crime\n",
       "970          7.4      Drama\n",
       "971          7.4     Comedy\n",
       "972          7.4      Drama\n",
       "973          7.4      Drama\n",
       "974          7.4     Comedy\n",
       "975          7.4  Adventure\n",
       "976          7.4     Action\n",
       "977          7.4     Horror\n",
       "978          7.4      Crime\n",
       "\n",
       "[979 rows x 2 columns]"
      ]
     },
     "execution_count": 19,
     "metadata": {},
     "output_type": "execute_result"
    }
   ],
   "source": [
    "# selecting multiple columns at once\n",
    "imdb_df[['star_rating', 'genre']]"
   ]
  },
  {
   "cell_type": "markdown",
   "metadata": {},
   "source": [
    "## Understanding columns\n",
    "\n",
    "On the inside, the type of a column is ``pd.Series`` and pandas Series are internally numpy arrays. If you add ``.values`` to the end of any Series, you'll get its internal **numpy array**."
   ]
  },
  {
   "cell_type": "code",
   "execution_count": 20,
   "metadata": {},
   "outputs": [],
   "source": [
    "durations = imdb_df['duration']"
   ]
  },
  {
   "cell_type": "code",
   "execution_count": 21,
   "metadata": {},
   "outputs": [
    {
     "data": {
      "text/plain": [
       "pandas.core.series.Series"
      ]
     },
     "execution_count": 21,
     "metadata": {},
     "output_type": "execute_result"
    }
   ],
   "source": [
    "type(durations)"
   ]
  },
  {
   "cell_type": "code",
   "execution_count": 22,
   "metadata": {},
   "outputs": [
    {
     "data": {
      "text/plain": [
       "numpy.ndarray"
      ]
     },
     "execution_count": 22,
     "metadata": {},
     "output_type": "execute_result"
    }
   ],
   "source": [
    "type(durations.values)"
   ]
  },
  {
   "cell_type": "code",
   "execution_count": 23,
   "metadata": {},
   "outputs": [],
   "source": [
    "duration_arr = durations.values"
   ]
  },
  {
   "cell_type": "code",
   "execution_count": 24,
   "metadata": {},
   "outputs": [
    {
     "data": {
      "text/plain": [
       "array([142, 175, 200, 152, 154], dtype=int64)"
      ]
     },
     "execution_count": 24,
     "metadata": {},
     "output_type": "execute_result"
    }
   ],
   "source": [
    "duration_arr[:5]"
   ]
  },
  {
   "cell_type": "markdown",
   "metadata": {},
   "source": [
    "## Applying functions to columns"
   ]
  },
  {
   "cell_type": "code",
   "execution_count": 25,
   "metadata": {},
   "outputs": [
    {
     "data": {
      "text/plain": [
       "0                               THE SHAWSHANK REDEMPTION\n",
       "1                                          THE GODFATHER\n",
       "2                                 THE GODFATHER: PART II\n",
       "3                                        THE DARK KNIGHT\n",
       "4                                           PULP FICTION\n",
       "5                                           12 ANGRY MEN\n",
       "6                         THE GOOD, THE BAD AND THE UGLY\n",
       "7          THE LORD OF THE RINGS: THE RETURN OF THE KING\n",
       "8                                       SCHINDLER'S LIST\n",
       "9                                             FIGHT CLUB\n",
       "10     THE LORD OF THE RINGS: THE FELLOWSHIP OF THE RING\n",
       "11                                             INCEPTION\n",
       "12        STAR WARS: EPISODE V - THE EMPIRE STRIKES BACK\n",
       "13                                          FORREST GUMP\n",
       "14                 THE LORD OF THE RINGS: THE TWO TOWERS\n",
       "15                                          INTERSTELLAR\n",
       "16                       ONE FLEW OVER THE CUCKOO'S NEST\n",
       "17                                         SEVEN SAMURAI\n",
       "18                                            GOODFELLAS\n",
       "19                                             STAR WARS\n",
       "20                                            THE MATRIX\n",
       "21                                           CITY OF GOD\n",
       "22                                 IT'S A WONDERFUL LIFE\n",
       "23                                    THE USUAL SUSPECTS\n",
       "24                                                 SE7EN\n",
       "25                                     LIFE IS BEAUTIFUL\n",
       "26                          ONCE UPON A TIME IN THE WEST\n",
       "27                              THE SILENCE OF THE LAMBS\n",
       "28                                LEON: THE PROFESSIONAL\n",
       "29                                           CITY LIGHTS\n",
       "                             ...                        \n",
       "949                                           HOME ALONE\n",
       "950                                                BOUND\n",
       "951                                        SLEEPY HOLLOW\n",
       "952                                         PIRATE RADIO\n",
       "953                                THE NEVERENDING STORY\n",
       "954                                                X-MEN\n",
       "955                                     ZERO DARK THIRTY\n",
       "956                             MANHATTAN MURDER MYSTERY\n",
       "957                          NATIONAL LAMPOON'S VACATION\n",
       "958                                   MY SISTER'S KEEPER\n",
       "959                                 DECONSTRUCTING HARRY\n",
       "960                                     THE WAY WAY BACK\n",
       "961                                               CAPOTE\n",
       "962                                   DRIVING MISS DAISY\n",
       "963                                      LA FEMME NIKITA\n",
       "964                                              LINCOLN\n",
       "965                                            LIMITLESS\n",
       "966                                   THE SIMPSONS MOVIE\n",
       "967                                             THE ROCK\n",
       "968                                  THE ENGLISH PATIENT\n",
       "969                                  LAW ABIDING CITIZEN\n",
       "970                                          WONDER BOYS\n",
       "971                                   DEATH AT A FUNERAL\n",
       "972                                       BLUE VALENTINE\n",
       "973                                THE CIDER HOUSE RULES\n",
       "974                                              TOOTSIE\n",
       "975                          BACK TO THE FUTURE PART III\n",
       "976      MASTER AND COMMANDER: THE FAR SIDE OF THE WORLD\n",
       "977                                          POLTERGEIST\n",
       "978                                          WALL STREET\n",
       "Name: title, Length: 979, dtype: object"
      ]
     },
     "execution_count": 25,
     "metadata": {},
     "output_type": "execute_result"
    }
   ],
   "source": [
    "capitalizer = lambda x: x.upper()\n",
    "imdb_df['title'].apply(capitalizer)"
   ]
  },
  {
   "cell_type": "markdown",
   "metadata": {},
   "source": [
    "## Plotting a column\n",
    "\n",
    "Use ``.plot()`` function!"
   ]
  },
  {
   "cell_type": "code",
   "execution_count": 26,
   "metadata": {},
   "outputs": [],
   "source": [
    "%matplotlib inline"
   ]
  },
  {
   "cell_type": "code",
   "execution_count": 27,
   "metadata": {},
   "outputs": [
    {
     "data": {
      "text/plain": [
       "<matplotlib.axes._subplots.AxesSubplot at 0xac850f0>"
      ]
     },
     "execution_count": 27,
     "metadata": {},
     "output_type": "execute_result"
    },
    {
     "data": {
      "image/png": "[encoded data removed]",
      "text/plain": [
       "<Figure size 432x288 with 1 Axes>"
      ]
     },
     "metadata": {},
     "output_type": "display_data"
    }
   ],
   "source": [
    "bikes_df['Berri1'].plot()"
   ]
  },
  {
   "cell_type": "markdown",
   "metadata": {},
   "source": [
    "We can also plot all the columns just as easily. "
   ]
  },
  {
   "cell_type": "code",
   "execution_count": 28,
   "metadata": {},
   "outputs": [
    {
     "data": {
      "text/plain": [
       "<matplotlib.axes._subplots.AxesSubplot at 0xcdea7f0>"
      ]
     },
     "execution_count": 28,
     "metadata": {},
     "output_type": "execute_result"
    },
    {
     "data": {
      "image/png": "[encoded data removed]",
      "text/plain": [
       "<Figure size 1080x720 with 1 Axes>"
      ]
     },
     "metadata": {},
     "output_type": "display_data"
    }
   ],
   "source": [
    "bikes_df.plot(figsize=(15, 10))"
   ]
  },
  {
   "cell_type": "markdown",
   "metadata": {},
   "source": [
    "## Index\n",
    "\n",
    "### DATAFRAME = COLUMNS + INDEX + ND DATA\n",
    "\n",
    "### SERIES = INDEX + 1-D DATA\n",
    "\n",
    "**Index** or (**row labels**) is one of the fundamental data structure of pandas. It can be thought of as an **immutable array** and an **ordered set**.\n",
    "\n",
    "> Every row is uniquely identified by its index value."
   ]
  },
  {
   "cell_type": "code",
   "execution_count": 29,
   "metadata": {},
   "outputs": [
    {
     "data": {
      "text/plain": [
       "DatetimeIndex(['2012-01-01', '2012-01-02', '2012-01-03', '2012-01-04',\n",
       "               '2012-01-05', '2012-01-06', '2012-01-07', '2012-01-08',\n",
       "               '2012-01-09', '2012-01-10',\n",
       "               ...\n",
       "               '2012-12-22', '2012-12-23', '2012-12-24', '2012-12-25',\n",
       "               '2012-12-26', '2012-12-27', '2012-12-28', '2012-12-29',\n",
       "               '2012-12-30', '2012-12-31'],\n",
       "              dtype='datetime64[ns]', name='Date', length=366, freq=None)"
      ]
     },
     "execution_count": 29,
     "metadata": {},
     "output_type": "execute_result"
    }
   ],
   "source": [
    "bikes_df.index"
   ]
  },
  {
   "cell_type": "code",
   "execution_count": 30,
   "metadata": {
    "scrolled": false
   },
   "outputs": [
    {
     "data": {
      "text/plain": [
       "Unnamed: 1                     00:00\n",
       "Rachel / Papineau                 16\n",
       "Berri1                            35\n",
       "Maisonneuve_2                     51\n",
       "Maisonneuve_1                     38\n",
       "Brébeuf                            5\n",
       "Parc                              26\n",
       "PierDup                           10\n",
       "CSC (Côte Sainte-Catherine)        0\n",
       "Pont_Jacques_Cartier              27\n",
       "Name: 2012-01-01 00:00:00, dtype: object"
      ]
     },
     "execution_count": 30,
     "metadata": {},
     "output_type": "execute_result"
    }
   ],
   "source": [
    "# get row for date 2012-01-01\n",
    "bikes_df.loc['2012-01-01']"
   ]
  },
  {
   "cell_type": "markdown",
   "metadata": {},
   "source": [
    "#### To get row by integer index:\n",
    "\n",
    "Use ``.iloc[]`` for purely integer-location based indexing for selection by position."
   ]
  },
  {
   "cell_type": "code",
   "execution_count": 31,
   "metadata": {
    "scrolled": true
   },
   "outputs": [
    {
     "data": {
      "text/plain": [
       "Unnamed: 1                     00:00\n",
       "Rachel / Papineau                 16\n",
       "Berri1                            35\n",
       "Maisonneuve_2                     51\n",
       "Maisonneuve_1                     38\n",
       "Brébeuf                            5\n",
       "Parc                              26\n",
       "PierDup                           10\n",
       "CSC (Côte Sainte-Catherine)        0\n",
       "Pont_Jacques_Cartier              27\n",
       "Name: 2012-01-01 00:00:00, dtype: object"
      ]
     },
     "execution_count": 31,
     "metadata": {},
     "output_type": "execute_result"
    }
   ],
   "source": [
    "bikes_df.iloc[0]"
   ]
  },
  {
   "cell_type": "markdown",
   "metadata": {},
   "source": [
    "## Slicing of dataframe"
   ]
  },
  {
   "cell_type": "code",
   "execution_count": 32,
   "metadata": {},
   "outputs": [
    {
     "data": {
      "text/html": [
       "<div>\n",
       "<style scoped>\n",
       "    .dataframe tbody tr th:only-of-type {\n",
       "        vertical-align: middle;\n",
       "    }\n",
       "\n",
       "    .dataframe tbody tr th {\n",
       "        vertical-align: top;\n",
       "    }\n",
       "\n",
       "    .dataframe thead th {\n",
       "        text-align: right;\n",
       "    }\n",
       "</style>\n",
       "<table border=\"1\" class=\"dataframe\">\n",
       "  <thead>\n",
       "    <tr style=\"text-align: right;\">\n",
       "      <th></th>\n",
       "      <th>Unnamed: 1</th>\n",
       "      <th>Rachel / Papineau</th>\n",
       "      <th>Berri1</th>\n",
       "      <th>Maisonneuve_2</th>\n",
       "      <th>Maisonneuve_1</th>\n",
       "      <th>Brébeuf</th>\n",
       "      <th>Parc</th>\n",
       "      <th>PierDup</th>\n",
       "      <th>CSC (Côte Sainte-Catherine)</th>\n",
       "      <th>Pont_Jacques_Cartier</th>\n",
       "    </tr>\n",
       "    <tr>\n",
       "      <th>Date</th>\n",
       "      <th></th>\n",
       "      <th></th>\n",
       "      <th></th>\n",
       "      <th></th>\n",
       "      <th></th>\n",
       "      <th></th>\n",
       "      <th></th>\n",
       "      <th></th>\n",
       "      <th></th>\n",
       "      <th></th>\n",
       "    </tr>\n",
       "  </thead>\n",
       "  <tbody>\n",
       "    <tr>\n",
       "      <th>2012-01-01</th>\n",
       "      <td>00:00</td>\n",
       "      <td>16</td>\n",
       "      <td>35</td>\n",
       "      <td>51</td>\n",
       "      <td>38</td>\n",
       "      <td>5.0</td>\n",
       "      <td>26</td>\n",
       "      <td>10</td>\n",
       "      <td>0</td>\n",
       "      <td>27.0</td>\n",
       "    </tr>\n",
       "    <tr>\n",
       "      <th>2012-01-02</th>\n",
       "      <td>00:00</td>\n",
       "      <td>43</td>\n",
       "      <td>83</td>\n",
       "      <td>153</td>\n",
       "      <td>68</td>\n",
       "      <td>11.0</td>\n",
       "      <td>53</td>\n",
       "      <td>6</td>\n",
       "      <td>1</td>\n",
       "      <td>21.0</td>\n",
       "    </tr>\n",
       "    <tr>\n",
       "      <th>2012-01-03</th>\n",
       "      <td>00:00</td>\n",
       "      <td>58</td>\n",
       "      <td>135</td>\n",
       "      <td>248</td>\n",
       "      <td>104</td>\n",
       "      <td>2.0</td>\n",
       "      <td>89</td>\n",
       "      <td>3</td>\n",
       "      <td>2</td>\n",
       "      <td>15.0</td>\n",
       "    </tr>\n",
       "    <tr>\n",
       "      <th>2012-01-04</th>\n",
       "      <td>00:00</td>\n",
       "      <td>61</td>\n",
       "      <td>144</td>\n",
       "      <td>318</td>\n",
       "      <td>116</td>\n",
       "      <td>2.0</td>\n",
       "      <td>111</td>\n",
       "      <td>8</td>\n",
       "      <td>1</td>\n",
       "      <td>19.0</td>\n",
       "    </tr>\n",
       "    <tr>\n",
       "      <th>2012-01-05</th>\n",
       "      <td>00:00</td>\n",
       "      <td>95</td>\n",
       "      <td>197</td>\n",
       "      <td>330</td>\n",
       "      <td>124</td>\n",
       "      <td>6.0</td>\n",
       "      <td>97</td>\n",
       "      <td>13</td>\n",
       "      <td>2</td>\n",
       "      <td>16.0</td>\n",
       "    </tr>\n",
       "  </tbody>\n",
       "</table>\n",
       "</div>"
      ],
      "text/plain": [
       "           Unnamed: 1  Rachel / Papineau  Berri1  Maisonneuve_2  \\\n",
       "Date                                                              \n",
       "2012-01-01      00:00                 16      35             51   \n",
       "2012-01-02      00:00                 43      83            153   \n",
       "2012-01-03      00:00                 58     135            248   \n",
       "2012-01-04      00:00                 61     144            318   \n",
       "2012-01-05      00:00                 95     197            330   \n",
       "\n",
       "            Maisonneuve_1  Brébeuf  Parc  PierDup  \\\n",
       "Date                                                \n",
       "2012-01-01             38      5.0    26       10   \n",
       "2012-01-02             68     11.0    53        6   \n",
       "2012-01-03            104      2.0    89        3   \n",
       "2012-01-04            116      2.0   111        8   \n",
       "2012-01-05            124      6.0    97       13   \n",
       "\n",
       "            CSC (Côte Sainte-Catherine)  Pont_Jacques_Cartier  \n",
       "Date                                                           \n",
       "2012-01-01                            0                  27.0  \n",
       "2012-01-02                            1                  21.0  \n",
       "2012-01-03                            2                  15.0  \n",
       "2012-01-04                            1                  19.0  \n",
       "2012-01-05                            2                  16.0  "
      ]
     },
     "execution_count": 32,
     "metadata": {},
     "output_type": "execute_result"
    }
   ],
   "source": [
    "# fetch first 5 rows of dataframe\n",
    "bikes_df[:5]"
   ]
  },
  {
   "cell_type": "code",
   "execution_count": 33,
   "metadata": {
    "scrolled": true
   },
   "outputs": [
    {
     "data": {
      "text/plain": [
       "Date\n",
       "2012-01-01     35\n",
       "2012-01-02     83\n",
       "2012-01-03    135\n",
       "2012-01-04    144\n",
       "2012-01-05    197\n",
       "Name: Berri1, dtype: int64"
      ]
     },
     "execution_count": 33,
     "metadata": {},
     "output_type": "execute_result"
    }
   ],
   "source": [
    "# fetch first 5 rows of a specific column\n",
    "bikes_df['Berri1'][:5]"
   ]
  },
  {
   "cell_type": "markdown",
   "metadata": {},
   "source": [
    "## Value counts\n",
    "\n",
    "Get count of unique values in a particular column/Series."
   ]
  },
  {
   "cell_type": "code",
   "execution_count": 34,
   "metadata": {
    "scrolled": false
   },
   "outputs": [
    {
     "data": {
      "text/plain": [
       "Drama        278\n",
       "Comedy       156\n",
       "Action       136\n",
       "Crime        124\n",
       "Biography     77\n",
       "Adventure     75\n",
       "Animation     62\n",
       "Horror        29\n",
       "Mystery       16\n",
       "Western        9\n",
       "Sci-Fi         5\n",
       "Thriller       5\n",
       "Film-Noir      3\n",
       "Family         2\n",
       "History        1\n",
       "Fantasy        1\n",
       "Name: genre, dtype: int64"
      ]
     },
     "execution_count": 34,
     "metadata": {},
     "output_type": "execute_result"
    }
   ],
   "source": [
    "imdb_df['genre'].value_counts()"
   ]
  },
  {
   "cell_type": "code",
   "execution_count": 35,
   "metadata": {},
   "outputs": [
    {
     "data": {
      "text/plain": [
       "<matplotlib.axes._subplots.AxesSubplot at 0xd271fd0>"
      ]
     },
     "execution_count": 35,
     "metadata": {},
     "output_type": "execute_result"
    },
    {
     "data": {
      "image/png": "[encoded data removed]",
      "text/plain": [
       "<Figure size 432x288 with 1 Axes>"
      ]
     },
     "metadata": {},
     "output_type": "display_data"
    }
   ],
   "source": [
    "# plotting value counts as a bar chart\n",
    "imdb_df['genre'].value_counts().plot(kind='bar')"
   ]
  },
  {
   "cell_type": "markdown",
   "metadata": {},
   "source": [
    "# Selecting rows where column has a particular value"
   ]
  },
  {
   "cell_type": "code",
   "execution_count": 36,
   "metadata": {},
   "outputs": [
    {
     "data": {
      "text/plain": [
       "0      False\n",
       "1      False\n",
       "2      False\n",
       "3      False\n",
       "4      False\n",
       "5      False\n",
       "6      False\n",
       "7       True\n",
       "8      False\n",
       "9      False\n",
       "10      True\n",
       "11     False\n",
       "12     False\n",
       "13     False\n",
       "14      True\n",
       "15      True\n",
       "16     False\n",
       "17     False\n",
       "18     False\n",
       "19     False\n",
       "20     False\n",
       "21     False\n",
       "22     False\n",
       "23     False\n",
       "24     False\n",
       "25     False\n",
       "26     False\n",
       "27     False\n",
       "28     False\n",
       "29     False\n",
       "       ...  \n",
       "949    False\n",
       "950    False\n",
       "951    False\n",
       "952    False\n",
       "953     True\n",
       "954    False\n",
       "955    False\n",
       "956    False\n",
       "957    False\n",
       "958    False\n",
       "959    False\n",
       "960    False\n",
       "961    False\n",
       "962    False\n",
       "963    False\n",
       "964    False\n",
       "965    False\n",
       "966    False\n",
       "967    False\n",
       "968    False\n",
       "969    False\n",
       "970    False\n",
       "971    False\n",
       "972    False\n",
       "973    False\n",
       "974    False\n",
       "975     True\n",
       "976    False\n",
       "977    False\n",
       "978    False\n",
       "Name: genre, Length: 979, dtype: bool"
      ]
     },
     "execution_count": 36,
     "metadata": {},
     "output_type": "execute_result"
    }
   ],
   "source": [
    "imdb_df['genre'] == 'Adventure'"
   ]
  },
  {
   "cell_type": "code",
   "execution_count": 37,
   "metadata": {},
   "outputs": [],
   "source": [
    "# select only those movies where genre is adventure\n",
    "adventure_movies = imdb_df[imdb_df['genre'] == 'Adventure']"
   ]
  },
  {
   "cell_type": "code",
   "execution_count": 38,
   "metadata": {},
   "outputs": [
    {
     "data": {
      "text/html": [
       "<div>\n",
       "<style scoped>\n",
       "    .dataframe tbody tr th:only-of-type {\n",
       "        vertical-align: middle;\n",
       "    }\n",
       "\n",
       "    .dataframe tbody tr th {\n",
       "        vertical-align: top;\n",
       "    }\n",
       "\n",
       "    .dataframe thead th {\n",
       "        text-align: right;\n",
       "    }\n",
       "</style>\n",
       "<table border=\"1\" class=\"dataframe\">\n",
       "  <thead>\n",
       "    <tr style=\"text-align: right;\">\n",
       "      <th></th>\n",
       "      <th>star_rating</th>\n",
       "      <th>title</th>\n",
       "      <th>content_rating</th>\n",
       "      <th>genre</th>\n",
       "      <th>duration</th>\n",
       "      <th>actors_list</th>\n",
       "    </tr>\n",
       "  </thead>\n",
       "  <tbody>\n",
       "    <tr>\n",
       "      <th>7</th>\n",
       "      <td>8.9</td>\n",
       "      <td>The Lord of the Rings: The Return of the King</td>\n",
       "      <td>PG-13</td>\n",
       "      <td>Adventure</td>\n",
       "      <td>201</td>\n",
       "      <td>[u'Elijah Wood', u'Viggo Mortensen', u'Ian McK...</td>\n",
       "    </tr>\n",
       "    <tr>\n",
       "      <th>10</th>\n",
       "      <td>8.8</td>\n",
       "      <td>The Lord of the Rings: The Fellowship of the Ring</td>\n",
       "      <td>PG-13</td>\n",
       "      <td>Adventure</td>\n",
       "      <td>178</td>\n",
       "      <td>[u'Elijah Wood', u'Ian McKellen', u'Orlando Bl...</td>\n",
       "    </tr>\n",
       "    <tr>\n",
       "      <th>14</th>\n",
       "      <td>8.8</td>\n",
       "      <td>The Lord of the Rings: The Two Towers</td>\n",
       "      <td>PG-13</td>\n",
       "      <td>Adventure</td>\n",
       "      <td>179</td>\n",
       "      <td>[u'Elijah Wood', u'Ian McKellen', u'Viggo Mort...</td>\n",
       "    </tr>\n",
       "    <tr>\n",
       "      <th>15</th>\n",
       "      <td>8.7</td>\n",
       "      <td>Interstellar</td>\n",
       "      <td>PG-13</td>\n",
       "      <td>Adventure</td>\n",
       "      <td>169</td>\n",
       "      <td>[u'Matthew McConaughey', u'Anne Hathaway', u'J...</td>\n",
       "    </tr>\n",
       "    <tr>\n",
       "      <th>54</th>\n",
       "      <td>8.5</td>\n",
       "      <td>Back to the Future</td>\n",
       "      <td>PG</td>\n",
       "      <td>Adventure</td>\n",
       "      <td>116</td>\n",
       "      <td>[u'Michael J. Fox', u'Christopher Lloyd', u'Le...</td>\n",
       "    </tr>\n",
       "  </tbody>\n",
       "</table>\n",
       "</div>"
      ],
      "text/plain": [
       "    star_rating                                              title  \\\n",
       "7           8.9      The Lord of the Rings: The Return of the King   \n",
       "10          8.8  The Lord of the Rings: The Fellowship of the Ring   \n",
       "14          8.8              The Lord of the Rings: The Two Towers   \n",
       "15          8.7                                       Interstellar   \n",
       "54          8.5                                 Back to the Future   \n",
       "\n",
       "   content_rating      genre  duration  \\\n",
       "7           PG-13  Adventure       201   \n",
       "10          PG-13  Adventure       178   \n",
       "14          PG-13  Adventure       179   \n",
       "15          PG-13  Adventure       169   \n",
       "54             PG  Adventure       116   \n",
       "\n",
       "                                          actors_list  \n",
       "7   [u'Elijah Wood', u'Viggo Mortensen', u'Ian McK...  \n",
       "10  [u'Elijah Wood', u'Ian McKellen', u'Orlando Bl...  \n",
       "14  [u'Elijah Wood', u'Ian McKellen', u'Viggo Mort...  \n",
       "15  [u'Matthew McConaughey', u'Anne Hathaway', u'J...  \n",
       "54  [u'Michael J. Fox', u'Christopher Lloyd', u'Le...  "
      ]
     },
     "execution_count": 38,
     "metadata": {},
     "output_type": "execute_result"
    }
   ],
   "source": [
    "adventure_movies.head()"
   ]
  },
  {
   "cell_type": "code",
   "execution_count": 39,
   "metadata": {},
   "outputs": [],
   "source": [
    "good_adventure_movies = imdb_df[(imdb_df['genre'] == 'Adventure') & (imdb_df['star_rating'] > 8.4)]"
   ]
  },
  {
   "cell_type": "code",
   "execution_count": 40,
   "metadata": {},
   "outputs": [
    {
     "data": {
      "text/html": [
       "<div>\n",
       "<style scoped>\n",
       "    .dataframe tbody tr th:only-of-type {\n",
       "        vertical-align: middle;\n",
       "    }\n",
       "\n",
       "    .dataframe tbody tr th {\n",
       "        vertical-align: top;\n",
       "    }\n",
       "\n",
       "    .dataframe thead th {\n",
       "        text-align: right;\n",
       "    }\n",
       "</style>\n",
       "<table border=\"1\" class=\"dataframe\">\n",
       "  <thead>\n",
       "    <tr style=\"text-align: right;\">\n",
       "      <th></th>\n",
       "      <th>star_rating</th>\n",
       "      <th>title</th>\n",
       "      <th>content_rating</th>\n",
       "      <th>genre</th>\n",
       "      <th>duration</th>\n",
       "      <th>actors_list</th>\n",
       "    </tr>\n",
       "  </thead>\n",
       "  <tbody>\n",
       "    <tr>\n",
       "      <th>7</th>\n",
       "      <td>8.9</td>\n",
       "      <td>The Lord of the Rings: The Return of the King</td>\n",
       "      <td>PG-13</td>\n",
       "      <td>Adventure</td>\n",
       "      <td>201</td>\n",
       "      <td>[u'Elijah Wood', u'Viggo Mortensen', u'Ian McK...</td>\n",
       "    </tr>\n",
       "    <tr>\n",
       "      <th>10</th>\n",
       "      <td>8.8</td>\n",
       "      <td>The Lord of the Rings: The Fellowship of the Ring</td>\n",
       "      <td>PG-13</td>\n",
       "      <td>Adventure</td>\n",
       "      <td>178</td>\n",
       "      <td>[u'Elijah Wood', u'Ian McKellen', u'Orlando Bl...</td>\n",
       "    </tr>\n",
       "    <tr>\n",
       "      <th>14</th>\n",
       "      <td>8.8</td>\n",
       "      <td>The Lord of the Rings: The Two Towers</td>\n",
       "      <td>PG-13</td>\n",
       "      <td>Adventure</td>\n",
       "      <td>179</td>\n",
       "      <td>[u'Elijah Wood', u'Ian McKellen', u'Viggo Mort...</td>\n",
       "    </tr>\n",
       "    <tr>\n",
       "      <th>15</th>\n",
       "      <td>8.7</td>\n",
       "      <td>Interstellar</td>\n",
       "      <td>PG-13</td>\n",
       "      <td>Adventure</td>\n",
       "      <td>169</td>\n",
       "      <td>[u'Matthew McConaughey', u'Anne Hathaway', u'J...</td>\n",
       "    </tr>\n",
       "    <tr>\n",
       "      <th>54</th>\n",
       "      <td>8.5</td>\n",
       "      <td>Back to the Future</td>\n",
       "      <td>PG</td>\n",
       "      <td>Adventure</td>\n",
       "      <td>116</td>\n",
       "      <td>[u'Michael J. Fox', u'Christopher Lloyd', u'Le...</td>\n",
       "    </tr>\n",
       "  </tbody>\n",
       "</table>\n",
       "</div>"
      ],
      "text/plain": [
       "    star_rating                                              title  \\\n",
       "7           8.9      The Lord of the Rings: The Return of the King   \n",
       "10          8.8  The Lord of the Rings: The Fellowship of the Ring   \n",
       "14          8.8              The Lord of the Rings: The Two Towers   \n",
       "15          8.7                                       Interstellar   \n",
       "54          8.5                                 Back to the Future   \n",
       "\n",
       "   content_rating      genre  duration  \\\n",
       "7           PG-13  Adventure       201   \n",
       "10          PG-13  Adventure       178   \n",
       "14          PG-13  Adventure       179   \n",
       "15          PG-13  Adventure       169   \n",
       "54             PG  Adventure       116   \n",
       "\n",
       "                                          actors_list  \n",
       "7   [u'Elijah Wood', u'Viggo Mortensen', u'Ian McK...  \n",
       "10  [u'Elijah Wood', u'Ian McKellen', u'Orlando Bl...  \n",
       "14  [u'Elijah Wood', u'Ian McKellen', u'Viggo Mort...  \n",
       "15  [u'Matthew McConaughey', u'Anne Hathaway', u'J...  \n",
       "54  [u'Michael J. Fox', u'Christopher Lloyd', u'Le...  "
      ]
     },
     "execution_count": 40,
     "metadata": {},
     "output_type": "execute_result"
    }
   ],
   "source": [
    "good_adventure_movies"
   ]
  },
  {
   "cell_type": "code",
   "execution_count": 41,
   "metadata": {},
   "outputs": [
    {
     "data": {
      "text/html": [
       "<div>\n",
       "<style scoped>\n",
       "    .dataframe tbody tr th:only-of-type {\n",
       "        vertical-align: middle;\n",
       "    }\n",
       "\n",
       "    .dataframe tbody tr th {\n",
       "        vertical-align: top;\n",
       "    }\n",
       "\n",
       "    .dataframe thead th {\n",
       "        text-align: right;\n",
       "    }\n",
       "</style>\n",
       "<table border=\"1\" class=\"dataframe\">\n",
       "  <thead>\n",
       "    <tr style=\"text-align: right;\">\n",
       "      <th></th>\n",
       "      <th>title</th>\n",
       "      <th>duration</th>\n",
       "    </tr>\n",
       "  </thead>\n",
       "  <tbody>\n",
       "    <tr>\n",
       "      <th>7</th>\n",
       "      <td>The Lord of the Rings: The Return of the King</td>\n",
       "      <td>201</td>\n",
       "    </tr>\n",
       "    <tr>\n",
       "      <th>10</th>\n",
       "      <td>The Lord of the Rings: The Fellowship of the Ring</td>\n",
       "      <td>178</td>\n",
       "    </tr>\n",
       "    <tr>\n",
       "      <th>14</th>\n",
       "      <td>The Lord of the Rings: The Two Towers</td>\n",
       "      <td>179</td>\n",
       "    </tr>\n",
       "    <tr>\n",
       "      <th>15</th>\n",
       "      <td>Interstellar</td>\n",
       "      <td>169</td>\n",
       "    </tr>\n",
       "    <tr>\n",
       "      <th>54</th>\n",
       "      <td>Back to the Future</td>\n",
       "      <td>116</td>\n",
       "    </tr>\n",
       "  </tbody>\n",
       "</table>\n",
       "</div>"
      ],
      "text/plain": [
       "                                                title  duration\n",
       "7       The Lord of the Rings: The Return of the King       201\n",
       "10  The Lord of the Rings: The Fellowship of the Ring       178\n",
       "14              The Lord of the Rings: The Two Towers       179\n",
       "15                                       Interstellar       169\n",
       "54                                 Back to the Future       116"
      ]
     },
     "execution_count": 41,
     "metadata": {},
     "output_type": "execute_result"
    }
   ],
   "source": [
    "# organised way\n",
    "is_adventure = imdb_df['genre'] == 'Adventure'\n",
    "has_high_rating = imdb_df['star_rating'] > 8.4\n",
    "good_adventure_movies = imdb_df[is_adventure & has_high_rating]\n",
    "\n",
    "# Just see title and duration of good adventure movies\n",
    "good_adventure_movies[['title', 'duration']]"
   ]
  },
  {
   "cell_type": "code",
   "execution_count": 42,
   "metadata": {},
   "outputs": [],
   "source": [
    "# which genre has highest number of movies with star rating above 8?\n",
    "has_above_8_rating = imdb_df['star_rating'] >= 8.0\n",
    "good_movies = imdb_df[has_above_8_rating]\n",
    "good_movies_genre_count = good_movies['genre'].value_counts()"
   ]
  },
  {
   "cell_type": "code",
   "execution_count": 43,
   "metadata": {
    "scrolled": true
   },
   "outputs": [
    {
     "data": {
      "text/plain": [
       "Drama        124\n",
       "Crime         51\n",
       "Comedy        50\n",
       "Action        47\n",
       "Adventure     37\n",
       "Animation     27\n",
       "Biography     26\n",
       "Horror        10\n",
       "Mystery        9\n",
       "Western        7\n",
       "Film-Noir      2\n",
       "Sci-Fi         2\n",
       "History        1\n",
       "Thriller       1\n",
       "Name: genre, dtype: int64"
      ]
     },
     "execution_count": 43,
     "metadata": {},
     "output_type": "execute_result"
    }
   ],
   "source": [
    "good_movies_genre_count"
   ]
  },
  {
   "cell_type": "code",
   "execution_count": 44,
   "metadata": {
    "scrolled": false
   },
   "outputs": [
    {
     "data": {
      "text/plain": [
       "'Drama'"
      ]
     },
     "execution_count": 44,
     "metadata": {},
     "output_type": "execute_result"
    }
   ],
   "source": [
    "good_movies_genre_count.idxmax()"
   ]
  },
  {
   "cell_type": "markdown",
   "metadata": {},
   "source": [
    "## Adding a new column to DataFrame"
   ]
  },
  {
   "cell_type": "code",
   "execution_count": 49,
   "metadata": {},
   "outputs": [
    {
     "data": {
      "text/plain": [
       "Date\n",
       "2012-01-01    6\n",
       "2012-01-02    0\n",
       "2012-01-03    1\n",
       "2012-01-04    2\n",
       "2012-01-05    3\n",
       "2012-01-06    4\n",
       "2012-01-07    5\n",
       "2012-01-08    6\n",
       "2012-01-09    0\n",
       "2012-01-10    1\n",
       "2012-01-11    2\n",
       "2012-01-12    3\n",
       "2012-01-13    4\n",
       "2012-01-14    5\n",
       "2012-01-15    6\n",
       "2012-01-16    0\n",
       "2012-01-17    1\n",
       "2012-01-18    2\n",
       "2012-01-19    3\n",
       "2012-01-20    4\n",
       "2012-01-21    5\n",
       "2012-01-22    6\n",
       "2012-01-23    0\n",
       "2012-01-24    1\n",
       "2012-01-25    2\n",
       "2012-01-26    3\n",
       "2012-01-27    4\n",
       "2012-01-28    5\n",
       "2012-01-29    6\n",
       "2012-01-30    0\n",
       "             ..\n",
       "2012-12-02    6\n",
       "2012-12-03    0\n",
       "2012-12-04    1\n",
       "2012-12-05    2\n",
       "2012-12-06    3\n",
       "2012-12-07    4\n",
       "2012-12-08    5\n",
       "2012-12-09    6\n",
       "2012-12-10    0\n",
       "2012-12-11    1\n",
       "2012-12-12    2\n",
       "2012-12-13    3\n",
       "2012-12-14    4\n",
       "2012-12-15    5\n",
       "2012-12-16    6\n",
       "2012-12-17    0\n",
       "2012-12-18    1\n",
       "2012-12-19    2\n",
       "2012-12-20    3\n",
       "2012-12-21    4\n",
       "2012-12-22    5\n",
       "2012-12-23    6\n",
       "2012-12-24    0\n",
       "2012-12-25    1\n",
       "2012-12-26    2\n",
       "2012-12-27    3\n",
       "2012-12-28    4\n",
       "2012-12-29    5\n",
       "2012-12-30    6\n",
       "2012-12-31    0\n",
       "Name: weekday, Length: 366, dtype: int64"
      ]
     },
     "execution_count": 49,
     "metadata": {},
     "output_type": "execute_result"
    }
   ],
   "source": [
    "bikes_df['weekday']"
   ]
  },
  {
   "cell_type": "code",
   "execution_count": 45,
   "metadata": {},
   "outputs": [],
   "source": [
    "weekdays = bikes_df.index.weekday"
   ]
  },
  {
   "cell_type": "code",
   "execution_count": 46,
   "metadata": {},
   "outputs": [
    {
     "data": {
      "text/plain": [
       "Int64Index([6, 0, 1, 2, 3, 4, 5, 6, 0, 1,\n",
       "            ...\n",
       "            5, 6, 0, 1, 2, 3, 4, 5, 6, 0],\n",
       "           dtype='int64', name='Date', length=366)"
      ]
     },
     "execution_count": 46,
     "metadata": {},
     "output_type": "execute_result"
    }
   ],
   "source": [
    "weekdays"
   ]
  },
  {
   "cell_type": "code",
   "execution_count": 47,
   "metadata": {},
   "outputs": [],
   "source": [
    "bikes_df['weekday'] = weekdays"
   ]
  },
  {
   "cell_type": "markdown",
   "metadata": {},
   "source": [
    "## Deleting an existing column from DataFrame"
   ]
  },
  {
   "cell_type": "code",
   "execution_count": null,
   "metadata": {},
   "outputs": [],
   "source": [
    "bikes_df.head()"
   ]
  },
  {
   "cell_type": "code",
   "execution_count": null,
   "metadata": {},
   "outputs": [],
   "source": [
    "bikes_df.drop('Unnamed: 1', axis=1)"
   ]
  },
  {
   "cell_type": "code",
   "execution_count": null,
   "metadata": {},
   "outputs": [],
   "source": [
    "bikes_df.drop('Unnamed: 1', axis=1, inplace=True)"
   ]
  },
  {
   "cell_type": "code",
   "execution_count": null,
   "metadata": {},
   "outputs": [],
   "source": [
    "# deleting column no. 1, 2, and 3\n",
    "bikes_df.drop(bikes_df.columns[[1,2,3]], axis=1)"
   ]
  },
  {
   "cell_type": "markdown",
   "metadata": {},
   "source": [
    "## Deleting a row in DataFrame"
   ]
  },
  {
   "cell_type": "code",
   "execution_count": null,
   "metadata": {
    "scrolled": true
   },
   "outputs": [],
   "source": [
    "df"
   ]
  },
  {
   "cell_type": "code",
   "execution_count": null,
   "metadata": {
    "scrolled": true
   },
   "outputs": [],
   "source": [
    "df.drop(df.index[0])"
   ]
  },
  {
   "cell_type": "code",
   "execution_count": null,
   "metadata": {
    "scrolled": true
   },
   "outputs": [],
   "source": [
    "df.drop([0,1,2])"
   ]
  },
  {
   "cell_type": "code",
   "execution_count": null,
   "metadata": {},
   "outputs": [],
   "source": [
    "# drop movies with rating less than 9.0\n",
    "has_poor_rating = imdb_df['star_rating'] < 9.0\n",
    "imdb_df.drop(imdb_df[has_poor_rating].index)"
   ]
  },
  {
   "cell_type": "markdown",
   "metadata": {},
   "source": [
    "## Group By\n",
    "\n",
    "Any groupby operation involves one of the following operations on the original object. They are −\n",
    "\n",
    "- Splitting the Object\n",
    "\n",
    "- Applying a function\n",
    "\n",
    "- Combining the results\n",
    "\n",
    "In many situations, we split the data into sets and we apply some functionality on each subset. In the apply functionality, we can perform the following operations −\n",
    "\n",
    "- **Aggregation** − computing a summary statistic\n",
    "\n",
    "- **Transformation** − perform some group-specific operation\n",
    "\n",
    "- **Filtration** − discarding the data with some condition\n",
    "\n"
   ]
  },
  {
   "cell_type": "code",
   "execution_count": null,
   "metadata": {},
   "outputs": [],
   "source": [
    "weekday_groups = bikes_df.groupby('weekday')"
   ]
  },
  {
   "cell_type": "code",
   "execution_count": null,
   "metadata": {},
   "outputs": [],
   "source": [
    "weekday_counts = weekday_groups.aggregate(sum)"
   ]
  },
  {
   "cell_type": "code",
   "execution_count": null,
   "metadata": {},
   "outputs": [],
   "source": [
    "weekday_counts"
   ]
  },
  {
   "cell_type": "code",
   "execution_count": null,
   "metadata": {},
   "outputs": [],
   "source": [
    "weekday_counts.index = ['Monday', 'Tuesday', 'Wednesday', 'Thursday', 'Friday', 'Saturday', 'Sunday']"
   ]
  },
  {
   "cell_type": "code",
   "execution_count": null,
   "metadata": {},
   "outputs": [],
   "source": [
    "weekday_counts"
   ]
  },
  {
   "cell_type": "code",
   "execution_count": null,
   "metadata": {
    "scrolled": true
   },
   "outputs": [],
   "source": [
    "weekday_counts['Berri1'].plot(kind='bar')"
   ]
  },
  {
   "cell_type": "markdown",
   "metadata": {},
   "source": [
    "Let us see one more example!"
   ]
  },
  {
   "cell_type": "code",
   "execution_count": null,
   "metadata": {},
   "outputs": [],
   "source": [
    "genre_groups = imdb_df.groupby('genre')"
   ]
  },
  {
   "cell_type": "code",
   "execution_count": null,
   "metadata": {},
   "outputs": [],
   "source": [
    "genre_groups.groups"
   ]
  },
  {
   "cell_type": "code",
   "execution_count": null,
   "metadata": {},
   "outputs": [],
   "source": [
    "# get crime movies group\n",
    "genre_groups.get_group('Crime')"
   ]
  },
  {
   "cell_type": "code",
   "execution_count": null,
   "metadata": {},
   "outputs": [],
   "source": [
    "import numpy as np"
   ]
  },
  {
   "cell_type": "code",
   "execution_count": null,
   "metadata": {},
   "outputs": [],
   "source": [
    "averages = genre_groups.aggregate(np.mean)"
   ]
  },
  {
   "cell_type": "code",
   "execution_count": null,
   "metadata": {},
   "outputs": [],
   "source": [
    "averages"
   ]
  },
  {
   "cell_type": "code",
   "execution_count": null,
   "metadata": {},
   "outputs": [],
   "source": [
    "# get sum, mean and std-dev of movie durations for each group\n",
    "duration_analysis = genre_groups['duration'].aggregate([np.sum, np.mean, np.std])"
   ]
  },
  {
   "cell_type": "code",
   "execution_count": null,
   "metadata": {},
   "outputs": [],
   "source": [
    "duration_analysis"
   ]
  },
  {
   "cell_type": "code",
   "execution_count": null,
   "metadata": {},
   "outputs": [],
   "source": [
    "# change duration of all movies in a particular genre to mean duration of the group\n",
    "averaged_movie_durations = genre_groups['duration'].transform(lambda x:x.mean())"
   ]
  },
  {
   "cell_type": "code",
   "execution_count": null,
   "metadata": {
    "scrolled": true
   },
   "outputs": [],
   "source": [
    "# drop groups/genres that do not have average movie duration greater than 120.\n",
    "genre_groups.filter(lambda x: x['duration'].mean() > 120)"
   ]
  },
  {
   "cell_type": "markdown",
   "metadata": {},
   "source": [
    "## Exercises:\n",
    "\n",
    "https://github.com/guipsamora/pandas_exercises/\n",
    "\n",
    "Practice pandas using these exercises. Every exercise has 3 notebooks:\n",
    "- Exercise\n",
    "- Solutions\n",
    "- Exercise with solutions"
   ]
  },
  {
   "cell_type": "markdown",
   "metadata": {},
   "source": [
    "![](https://memegenerator.net/img/instances/500x/73988569/pythonpandas-is-easy-import-and-go.jpg)"
   ]
  }
 ],
 "metadata": {
  "kernelspec": {
   "display_name": "Python 3",
   "language": "python",
   "name": "python3"
  },
  "language_info": {
   "codemirror_mode": {
    "name": "ipython",
    "version": 3
   },
   "file_extension": ".py",
   "mimetype": "text/x-python",
   "name": "python",
   "nbconvert_exporter": "python",
   "pygments_lexer": "ipython3",
   "version": "3.7.3"
  }
 },
 "nbformat": 4,
 "nbformat_minor": 2
}
